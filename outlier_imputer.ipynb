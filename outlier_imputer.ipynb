{
  "nbformat": 4,
  "nbformat_minor": 0,
  "metadata": {
    "colab": {
      "provenance": [],
      "authorship_tag": "ABX9TyM/0rUVN81C+3P9/tpHy6MP",
      "include_colab_link": true
    },
    "kernelspec": {
      "name": "python3",
      "display_name": "Python 3"
    },
    "language_info": {
      "name": "python"
    }
  },
  "cells": [
    {
      "cell_type": "markdown",
      "metadata": {
        "id": "view-in-github",
        "colab_type": "text"
      },
      "source": [
        "<a href=\"https://colab.research.google.com/github/MbuyiseloNtando/Python-functions/blob/main/outlier_imputer.ipynb\" target=\"_parent\"><img src=\"https://colab.research.google.com/assets/colab-badge.svg\" alt=\"Open In Colab\"/></a>"
      ]
    },
    {
      "cell_type": "code",
      "execution_count": 1,
      "metadata": {
        "id": "tKk-9nv6lQ_O"
      },
      "outputs": [],
      "source": [
        "def outlier_imputer(column_list, iqr_factor):\n",
        "    '''\n",
        "    Impute upper-limit values in specified columns based on their interquartile range.\n",
        "\n",
        "    Arguments:\n",
        "        column_list: A list of columns to iterate over\n",
        "        iqr_factor: A number representing x in the formula:\n",
        "                    Q3 + (x * IQR). Used to determine maximum threshold,\n",
        "                    beyond which a point is considered an outlier.\n",
        "\n",
        "    The IQR is computed for each column in column_list and values exceeding\n",
        "    the upper threshold for each column are imputed with the upper threshold value.\n",
        "    '''\n",
        "    for col in column_list:\n",
        "        # Calculate upper threshold\n",
        "        q1 = df[col].quantile(0.25)\n",
        "        q3 = df[col].quantile(0.75)\n",
        "        iqr = q3 - q1\n",
        "        lower_threshold = q1 - (iqr_factor * iqr)\n",
        "        upper_threshold = q3 + (iqr_factor * iqr)\n",
        "\n",
        "        print(col)\n",
        "        print('q1:', q1)\n",
        "        print('q3:', q3)\n",
        "        print('upper_threshold:', upper_threshold)\n",
        "\n",
        "        # Reassign values > threshold to threshold\n",
        "        df.loc[df[col] < lower_threshold, col] = lower_threshold\n",
        "        df.loc[df[col] > upper_threshold, col] = upper_threshold\n",
        "        print(df[col].describe())\n",
        "        print()"
      ]
    }
  ]
}